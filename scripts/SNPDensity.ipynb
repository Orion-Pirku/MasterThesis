{
 "cells": [
  {
   "cell_type": "code",
   "execution_count": 3,
   "metadata": {},
   "outputs": [],
   "source": [
    "import os\n",
    "import numpy\n",
    "import polars as pl\n",
    "import matplotlib.pyplot as plt\n",
    "import seaborn\n",
    "import glob\n",
    "import pandas as pd\n",
    "from typing import Dict, List\n"
   ]
  },
  {
   "cell_type": "code",
   "execution_count": null,
   "metadata": {},
   "outputs": [
    {
     "name": "stdout",
     "output_type": "stream",
     "text": [
      "Error reading ./snp_density_10000_sorted_chr_10.phased.snpden: empty CSV\n"
     ]
    }
   ],
   "source": [
    "from os import sep\n",
    "\n",
    "def load_files_from_directory(\n",
    "    directory_path: str, \n",
    "    file_pattern: str\n",
    ") -> Dict[str, pl.DataFrame]:\n",
    "    \"\"\"\n",
    "    Loads files matching a specific pattern from a directory using Polars and stores them\n",
    "    with their base file name (without extension) as the key in a dictionary.\n",
    "    \n",
    "    Args:\n",
    "    - directory_path (str): The directory to scan for files.\n",
    "    - file_pattern (str): The glob pattern to match files (e.g., '*_10000_*.phased.snpden').\n",
    "\n",
    "    Returns:\n",
    "    - Dict[str, pl.DataFrame]: A dictionary with base file names as keys and Polars DataFrames as values.\n",
    "    \"\"\"\n",
    "    loaded_files_dict: Dict[str, pl.DataFrame] = {}\n",
    "    \n",
    "    # Use glob to get a list of files matching the pattern\n",
    "    files: List[str] = glob.glob(os.path.join(directory_path, file_pattern))\n",
    "    \n",
    "    if not files:\n",
    "        print(f\"No files matching the pattern '{file_pattern}' were found in the directory '{directory_path}'.\")\n",
    "        return loaded_files_dict\n",
    "\n",
    "    # Loop through all matching files\n",
    "    for file in files:\n",
    "        if os.path.isfile(file):  # Ensure it's a file\n",
    "            # Extract the base file name (without path and extension)\n",
    "            file_basename: str = os.path.splitext(os.path.basename(file))[0]\n",
    "\n",
    "            try:\n",
    "                # Read the CSV file into a Polars DataFrame\n",
    "                df: pl.DataFrame = pl.read_csv(file, separator='\\t')\n",
    "                loaded_files_dict[file_basename] = df\n",
    "            except Exception as e:\n",
    "                print(f\"Error reading {file}: {e}\")\n",
    "                continue\n",
    "    \n",
    "    return loaded_files_dict\n",
    "\n",
    "# Example usage\n",
    "file_directory: str = \".\"  # Specify the directory\n",
    "pattern: str = \"*_10000_*.phased.snpden\"  # Define the file pattern\n",
    "\n",
    "# Load files based on the pattern\n",
    "files_data: Dict[str, pl.DataFrame] = load_files_from_directory(file_directory, pattern)\n"
   ]
  },
  {
   "cell_type": "code",
   "execution_count": null,
   "metadata": {},
   "outputs": [
    {
     "name": "stdout",
     "output_type": "stream",
     "text": [
      "shape: (100_943, 4)\n",
      "┌───────┬───────────┬───────────┬─────────────┐\n",
      "│ CHROM ┆ BIN_START ┆ SNP_COUNT ┆ VARIANTS/KB │\n",
      "│ ---   ┆ ---       ┆ ---       ┆ ---         │\n",
      "│ str   ┆ i64       ┆ i64       ┆ f64         │\n",
      "╞═══════╪═══════════╪═══════════╪═════════════╡\n",
      "│ chr_1 ┆ 0         ┆ 101       ┆ 10.1        │\n",
      "│ chr_1 ┆ 10000     ┆ 468       ┆ 46.8        │\n",
      "│ chr_1 ┆ 20000     ┆ 330       ┆ 33.0        │\n",
      "│ chr_1 ┆ 30000     ┆ 281       ┆ 28.1        │\n",
      "│ chr_1 ┆ 40000     ┆ 324       ┆ 32.4        │\n",
      "│ …     ┆ …         ┆ …         ┆ …           │\n",
      "│ chr_Z ┆ 88530000  ┆ 298       ┆ 29.8        │\n",
      "│ chr_Z ┆ 88540000  ┆ 253       ┆ 25.3        │\n",
      "│ chr_Z ┆ 88550000  ┆ 216       ┆ 21.6        │\n",
      "│ chr_Z ┆ 88560000  ┆ 174       ┆ 17.4        │\n",
      "│ chr_Z ┆ 88570000  ┆ 174       ┆ 17.4        │\n",
      "└───────┴───────────┴───────────┴─────────────┘\n"
     ]
    }
   ],
   "source": [
    "def merge_dataframes_from_dict(\n",
    "    dataframes: Dict[str, pl.DataFrame], \n",
    "    first_file_key: str\n",
    ") -> pl.DataFrame:\n",
    "    \"\"\"\n",
    "    Merges DataFrames stored in a dictionary based on a common column ('CHROM').\n",
    "    Only the first DataFrame's column names will be preserved.\n",
    "\n",
    "    Args:\n",
    "    - dataframes: A dictionary where the keys are file names and the values are DataFrames.\n",
    "    - first_file_key: The key for the first DataFrame to use as the base for column names.\n",
    "\n",
    "    Returns:\n",
    "    - A single merged DataFrame with rows from all DataFrames, retaining the column names of the first DataFrame.\n",
    "    \"\"\"\n",
    "    # Get the first DataFrame from the dictionary\n",
    "    merged_df: pl.DataFrame = dataframes.get(first_file_key)\n",
    "    \n",
    "    # Iterate over the rest of the DataFrames and merge them\n",
    "    for key, df in dataframes.items():\n",
    "        if key != first_file_key:\n",
    "            merged_df = merged_df.join(df, on=\"CHROM\", how=\"inner\")\n",
    "    \n",
    "    return merged_df"
   ]
  },
  {
   "cell_type": "code",
   "execution_count": null,
   "metadata": {},
   "outputs": [],
   "source": [
    "from cProfile import label\n",
    "\n",
    "\n",
    "def plot_chromosome_density(dataFrame: pl.DataFrame):\n",
    "    \n",
    "    pandas_dataFrame: pd.DataFrame = dataFrame.to_pandas()\n",
    "    \n",
    "    seaborn.set_style(\"darkgrid\")\n",
    "    \n",
    "    chromosomes: List[str] = pandas_dataFrame[\"CHROM\"].unique()\n",
    "    \n",
    "    fig, axes = plt.subplots(len(chromosomes), 1, figsize=(14, 7 * len(chromosomes)))\n",
    "    \n",
    "    if len(chromosomes) == 1:\n",
    "        axes = [axes]\n",
    "    \n",
    "    for i, chromosome in enumerate(chromosomes):\n",
    "        \n",
    "        chromosome_data = pandas_dataFrame[pandas_dataFrame[\"CHROM\"] == chromosome]\n",
    "        \n",
    "        seaborn.lineplot(data=chromosome_data, x=\"BIN_START\", y = \"VARIANTS/KB\", color=\"darkred\",ax = axes[i], label=chromosome)\n",
    "        axes[i].set_title(f\"Chromosome {chrom} SNP Density\", fontsize=16)\n",
    "        axes[i].set_xlabel(\"Bin Start\", fontsize=12)\n",
    "        axes[i].set_ylabel(\"SNP Variants/Kb\", fontsize=12)\n",
    "        axes[i].legend(title=\"Chromosome\")\n",
    "    # Adjust the layout to ensure everything fits\n",
    "    plt.tight_layout()\n",
    "\n",
    "    # Display the plot\n",
    "    plt.show()"
   ]
  }
 ],
 "metadata": {
  "kernelspec": {
   "display_name": "Python 3",
   "language": "python",
   "name": "python3"
  },
  "language_info": {
   "codemirror_mode": {
    "name": "ipython",
    "version": 3
   },
   "file_extension": ".py",
   "mimetype": "text/x-python",
   "name": "python",
   "nbconvert_exporter": "python",
   "pygments_lexer": "ipython3",
   "version": "3.13.3"
  }
 },
 "nbformat": 4,
 "nbformat_minor": 2
}
